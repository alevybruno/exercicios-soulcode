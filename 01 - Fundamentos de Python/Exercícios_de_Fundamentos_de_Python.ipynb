{
  "nbformat": 4,
  "nbformat_minor": 0,
  "metadata": {
    "colab": {
      "provenance": []
    },
    "kernelspec": {
      "name": "python3",
      "display_name": "Python 3"
    },
    "language_info": {
      "name": "python"
    }
  },
  "cells": [
    {
      "cell_type": "markdown",
      "source": [
        "# 1 - Variáveis e Tipos de Dados"
      ],
      "metadata": {
        "id": "uxGISqtR2yNT"
      }
    },
    {
      "cell_type": "code",
      "execution_count": null,
      "metadata": {
        "id": "tLS0FEGj2rS7",
        "colab": {
          "base_uri": "https://localhost:8080/"
        },
        "outputId": "4b0bce7e-1fb7-49e5-96f0-61bf81c528a2"
      },
      "outputs": [
        {
          "output_type": "stream",
          "name": "stdout",
          "text": [
            "===== Valores =====\n",
            "Nome: Álevy\n",
            "Idade: 30 anos\n",
            "Peso: 120kg\n",
            "Altura: 1.82m\n",
            "\n",
            "===== Tipos =====\n",
            "Nome: str\n",
            "Idade: int\n",
            "Peso: int\n",
            "Altura: float\n"
          ]
        }
      ],
      "source": [
        "'''\n",
        "1.1. Crie variáveis para armazenar o nome, idade, peso e altura de uma pessoa.\n",
        "Imprima os valores e os tipos de dados dessas variáveis.\n",
        "'''\n",
        "nome = \"Álevy\"\n",
        "idade = 30\n",
        "peso = 120\n",
        "altura = 1.82\n",
        "\n",
        "print(f\"===== Valores =====\"\n",
        "    f\"\\nNome: {nome}\"\n",
        "    f\"\\nIdade: {idade} anos\"\n",
        "    f\"\\nPeso: {peso}kg\"\n",
        "    f\"\\nAltura: {altura}m\")\n",
        "print(f\"\\n===== Tipos =====\"\n",
        "    f\"\\nNome: {type(nome).__name__}\"\n",
        "    f\"\\nIdade: {type(idade).__name__}\"\n",
        "    f\"\\nPeso: {type(peso).__name__}\"\n",
        "    f\"\\nAltura: {type(altura).__name__}\")"
      ]
    },
    {
      "cell_type": "code",
      "source": [
        "'''\n",
        "1.2. Atualize a variável de peso para um valor diferente e imprima o novo valor.\n",
        "'''\n",
        "peso = 110\n",
        "print(f\"===== Atualização =====\\nNovo peso: {peso}kg\")"
      ],
      "metadata": {
        "id": "VFVgrodF27TT",
        "colab": {
          "base_uri": "https://localhost:8080/"
        },
        "outputId": "cb9ee9ee-3c53-4866-9b9b-9494c90eaad6"
      },
      "execution_count": null,
      "outputs": [
        {
          "output_type": "stream",
          "name": "stdout",
          "text": [
            "===== Atualização =====\n",
            "Novo peso: 110kg\n"
          ]
        }
      ]
    },
    {
      "cell_type": "markdown",
      "source": [
        "# 2 - Operadores Matemáticos"
      ],
      "metadata": {
        "id": "RRRbkSkr3Ajw"
      }
    },
    {
      "cell_type": "code",
      "source": [
        "'''\n",
        "2.1. Crie uma variável a com valor 10 e uma variável b com valor 3. Realize as\n",
        "seguintes operações e imprima os resultados:\n",
        "Soma\n",
        "Subtração\n",
        "Multiplicação\n",
        "Divisão\n",
        "Parte inteira da divisão\n",
        "Resto da divisão\n",
        "Exponenciação\n",
        "'''\n",
        "a = 10\n",
        "b = 3\n",
        "\n",
        "soma = a + b\n",
        "subtracao = a - b\n",
        "multiplicacao = a * b\n",
        "divisao = a / b\n",
        "divisao_int = a // b\n",
        "resto = a % b\n",
        "potencia = a ** b\n",
        "\n",
        "print(f\"===== Operações Matemáticas =====\\n\"\n",
        "    f\"\\nSoma = {soma}\"\n",
        "    f\"\\nSubtração = {subtracao}\"\n",
        "    f\"\\nMultiplicação = {multiplicacao}\"\n",
        "    f\"\\nDivisão = {divisao:.2f}\"\n",
        "    f\"\\nParte inteira da divisão = {divisao_int}\"\n",
        "    f\"\\nResto da Divisão = {resto}\"\n",
        "    f\"\\nExponenciação = {potencia}\")"
      ],
      "metadata": {
        "id": "hHAztIDU3AJP",
        "colab": {
          "base_uri": "https://localhost:8080/"
        },
        "outputId": "f4bce5c3-d9c5-4461-943e-afbaa2597e01"
      },
      "execution_count": null,
      "outputs": [
        {
          "output_type": "stream",
          "name": "stdout",
          "text": [
            "===== Operações Matemáticas =====\n",
            "\n",
            "Soma = 13\n",
            "Subtração = 7\n",
            "Multiplicação = 30\n",
            "Divisão = 3.33\n",
            "Parte inteira da divisão = 3\n",
            "Resto da Divisão = 1\n",
            "Exponenciação = 1000\n"
          ]
        }
      ]
    },
    {
      "cell_type": "markdown",
      "source": [
        "# 3 - Entrada de Dados pelo Usuário\n"
      ],
      "metadata": {
        "id": "jWJt5Ep23OFd"
      }
    },
    {
      "cell_type": "code",
      "source": [
        "'''\n",
        "3.1. Peça ao usuário para digitar seu nome e armazene em uma variável. Imprima\n",
        "uma mensagem de boas-vindas usando o nome fornecido.\n",
        "'''\n",
        "nome = input(\"Digite seu nome, por favor: \")\n",
        "print(f\"Seja bem-vindo, {nome}!\")"
      ],
      "metadata": {
        "id": "IiD6jUJh3eiD",
        "colab": {
          "base_uri": "https://localhost:8080/"
        },
        "outputId": "1179fe7d-1ad6-42be-8afd-eeaed394ed0d"
      },
      "execution_count": null,
      "outputs": [
        {
          "output_type": "stream",
          "name": "stdout",
          "text": [
            "Digite seu nome, por favor: Álevy Bruno\n",
            "Seja bem-vindo, Álevy Bruno!\n"
          ]
        }
      ]
    },
    {
      "cell_type": "code",
      "source": [
        "'''\n",
        "3.2. Peça ao usuário para digitar sua idade, peso e altura. Calcule o IMC e\n",
        "imprima o resultado arredondado para três casas decimais.\n",
        "'''\n",
        "idade = int(input(\"Digite sua idade, por favor: \"))\n",
        "peso = float(input(\"Digite seu peso, por favor: \"))\n",
        "altura = float(input(\"Digite sua altura, por favor: \"))\n",
        "imc = peso / altura ** 2\n",
        "print(f\"Seu Índice de Massa Corporal é: {imc:.3f}\")"
      ],
      "metadata": {
        "id": "Y4kz72aR3k8d",
        "colab": {
          "base_uri": "https://localhost:8080/"
        },
        "outputId": "2fe6d9ca-7c7e-486d-8b98-48d7e043b9dc"
      },
      "execution_count": null,
      "outputs": [
        {
          "output_type": "stream",
          "name": "stdout",
          "text": [
            "Digite sua idade, por favor: 30\n",
            "Digite seu peso, por favor: 110\n",
            "Digite sua altura, por favor: 1.82\n",
            "Seu Índice de Massa Corporal é: 33.209\n"
          ]
        }
      ]
    },
    {
      "cell_type": "markdown",
      "source": [
        "# 4 - Função de Impressão"
      ],
      "metadata": {
        "id": "zqRV3Plv3pjL"
      }
    },
    {
      "cell_type": "code",
      "source": [
        "'''\n",
        "4.1. Peça ao usuário para digitar um número e imprima o número digitado.\n",
        "'''\n",
        "numero = float(input(\"Digite um número, por favor: \"))\n",
        "print(numero)"
      ],
      "metadata": {
        "id": "N5AbRV3i3vYV",
        "colab": {
          "base_uri": "https://localhost:8080/"
        },
        "outputId": "d05931f9-7e47-4e69-9561-ce86b9755fcc"
      },
      "execution_count": null,
      "outputs": [
        {
          "output_type": "stream",
          "name": "stdout",
          "text": [
            "Digite um número, por favor: 50.452\n",
            "50.452\n"
          ]
        }
      ]
    },
    {
      "cell_type": "code",
      "source": [
        "'''\n",
        "4.2. Peça ao usuário para digitar dois números e imprima a soma deles.\n",
        "'''\n",
        "num1 = float(input(\"Digite um número, por favor: \"))\n",
        "num2 = float(input(\"Digite outro número, por favor: \"))\n",
        "print(f\"A soma dos números digitados é: {num1 + num2}\")"
      ],
      "metadata": {
        "id": "qM2ocOFl3vpB",
        "colab": {
          "base_uri": "https://localhost:8080/"
        },
        "outputId": "ca3a448c-0c54-4ae3-d776-59ddc7d0e4d9"
      },
      "execution_count": null,
      "outputs": [
        {
          "output_type": "stream",
          "name": "stdout",
          "text": [
            "Digite um número, por favor: 30\n",
            "Digite outro número, por favor: 20\n",
            "A soma dos números digitados é: 50.0\n"
          ]
        }
      ]
    },
    {
      "cell_type": "markdown",
      "source": [
        "# 5 - Métodos de Strings"
      ],
      "metadata": {
        "id": "RWwlLaOu35jq"
      }
    },
    {
      "cell_type": "code",
      "source": [
        "'''\n",
        "5.1. Peça ao usuário para digitar um e-mail e verifique se o e-mail contém o\n",
        "caractere '@'. Imprima uma mensagem indicando se é um e-mail válido ou não.\n",
        "'''\n",
        "email = input(\"Por favor, digite seu endereço de e-mail: \")\n",
        "if \"@\" in email:\n",
        "    print(\"Sucesso! O seu endereço de e-mail é válido.\")\n",
        "else:\n",
        "    print(\"Desculpe, mas seu endereço de e-mail é inválido.\")"
      ],
      "metadata": {
        "id": "PnAPaeXY3-dA",
        "colab": {
          "base_uri": "https://localhost:8080/"
        },
        "outputId": "ef12260c-ef62-4285-e3c6-258eadaa5982"
      },
      "execution_count": null,
      "outputs": [
        {
          "output_type": "stream",
          "name": "stdout",
          "text": [
            "Por favor, digite seu endereço de e-mail: alevyathan@gmail.com\n",
            "Sucesso! O seu endereço de e-mail é válido.\n"
          ]
        }
      ]
    },
    {
      "cell_type": "code",
      "source": [
        "'''\n",
        "5.2. Peça ao usuário para digitar uma frase e:\n",
        "Converta a frase para maiúsculas.\n",
        "Converta a frase para minúsculas.\n",
        "Converta a primeira letra de cada palavra para maiúscula.\n",
        "Verifique se a frase começa com uma determinada palavra (ex.: 'Olá').\n",
        "'''\n",
        "frase = input(\"Por favor, digite uma frase: \")\n",
        "print(frase.upper())\n",
        "print(frase.lower())\n",
        "print(frase.title())\n",
        "\n",
        "if frase.startswith(\"Python\"):\n",
        "    print(\"A frase inicia com 'Python'.\")\n",
        "else:\n",
        "    print(\"A frase não inicia com 'Python'.\")"
      ],
      "metadata": {
        "id": "nkwe0I9c3-w-",
        "colab": {
          "base_uri": "https://localhost:8080/"
        },
        "outputId": "cb3d0f39-45b2-4408-e0cc-a9b3b42b1a47"
      },
      "execution_count": null,
      "outputs": [
        {
          "output_type": "stream",
          "name": "stdout",
          "text": [
            "Por favor, digite uma frase: Python é a melhor linguagem do mundo.\n",
            "PYTHON É A MELHOR LINGUAGEM DO MUNDO.\n",
            "python é a melhor linguagem do mundo.\n",
            "Python É A Melhor Linguagem Do Mundo.\n",
            "A frase inicia com 'Python'.\n"
          ]
        }
      ]
    },
    {
      "cell_type": "markdown",
      "source": [
        "# 6 - Listas"
      ],
      "metadata": {
        "id": "HZQlB-8K4snX"
      }
    },
    {
      "cell_type": "code",
      "source": [
        "'''\n",
        "6.1. Crie uma lista com os nomes de cinco amigos. Imprima o nome do terceiro\n",
        "amigo na lista.\n",
        "'''\n",
        "amigos = [\"Mahonri\", \"Mateus\", \"Laiana\", \"Cauã\", \"Flailson\"]\n",
        "print(\"O nome do terceiro amigo é:\", amigos[2])"
      ],
      "metadata": {
        "id": "3_3JLvXZ4sBG",
        "colab": {
          "base_uri": "https://localhost:8080/"
        },
        "outputId": "88c7abe9-232f-4893-8431-e8867bbafc5f"
      },
      "execution_count": null,
      "outputs": [
        {
          "output_type": "stream",
          "name": "stdout",
          "text": [
            "O nome do terceiro amigo é: Laiana\n"
          ]
        }
      ]
    },
    {
      "cell_type": "code",
      "source": [
        "'''\n",
        "6.2. Adicione um novo nome à lista de amigos e remova o primeiro nome.\n",
        "Imprima a lista atualizada.\n",
        "'''\n",
        "amigos.pop(0)\n",
        "amigos.append(\"Dante\")\n",
        "print(amigos)"
      ],
      "metadata": {
        "id": "ppcjLqMb4yDu",
        "colab": {
          "base_uri": "https://localhost:8080/"
        },
        "outputId": "1e5a7f99-cb94-486e-a465-d3c701756c92"
      },
      "execution_count": null,
      "outputs": [
        {
          "output_type": "stream",
          "name": "stdout",
          "text": [
            "['Mateus', 'Laiana', 'Cauã', 'Flailson', 'Dante']\n"
          ]
        }
      ]
    },
    {
      "cell_type": "code",
      "source": [
        "'''\n",
        "6.3. Crie uma lista com as idades dos seus amigos e:\n",
        "Imprima a idade do amigo mais velho.\n",
        "Imprima a idade do amigo mais novo.\n",
        "Calcule e imprima a soma das idades.\n",
        "'''\n",
        "idades = [29, 27, 19, 30, 4]\n",
        "\n",
        "idade_maior = max(idades)\n",
        "print(\"A idade do amigo mais velho é:\", idade_maior)\n",
        "\n",
        "idade_menor = min(idades)\n",
        "print(\"A idade do amigo mais novo é:\", idade_menor)\n",
        "\n",
        "soma_das_idades = sum(idades)\n",
        "print(\"A soma das idades dos meus amigos é:\", soma_das_idades)"
      ],
      "metadata": {
        "id": "Hoz7RcUW4zc4",
        "colab": {
          "base_uri": "https://localhost:8080/"
        },
        "outputId": "3766095e-63cd-4e92-aefa-2e9a5420a054"
      },
      "execution_count": null,
      "outputs": [
        {
          "output_type": "stream",
          "name": "stdout",
          "text": [
            "A idade do amigo mais velho é: 30\n",
            "A idade do amigo mais novo é: 4\n",
            "A soma das idades dos meus amigos é: 109\n"
          ]
        }
      ]
    },
    {
      "cell_type": "markdown",
      "source": [
        "# 7 - Tuplas"
      ],
      "metadata": {
        "id": "9WTzsCNH4-tT"
      }
    },
    {
      "cell_type": "code",
      "source": [
        "'''\n",
        "7.1 Crie uma tupla com as informações de um cliente (nome, idade, peso, altura).\n",
        "Imprima todas as informações.\n",
        "'''\n",
        "cliente = (\"Lázaro\", 29, 67.0, 1.72)\n",
        "\n",
        "print(\"===== Dados do Cliente =====\"\n",
        "    \"\\nNome:\", cliente[0],\n",
        "    \"\\nIdade:\", cliente[1], \"anos\"\n",
        "    \"\\nPeso:\", cliente[2], \"kg\"\n",
        "    \"\\nAltura:\", cliente[3], \"m\")"
      ],
      "metadata": {
        "id": "XpWW7G-p5BOJ",
        "colab": {
          "base_uri": "https://localhost:8080/"
        },
        "outputId": "4e1d32fd-20db-4d4b-eee3-212cc60ac563"
      },
      "execution_count": null,
      "outputs": [
        {
          "output_type": "stream",
          "name": "stdout",
          "text": [
            "===== Dados do Cliente =====\n",
            "Nome: Lázaro \n",
            "Idade: 29 anos\n",
            "Peso: 67.0 kg\n",
            "Altura: 1.72 m\n"
          ]
        }
      ]
    },
    {
      "cell_type": "code",
      "source": [
        "'''\n",
        "7.2. Crie uma nova tupla concatenando a tupla do exercício anterior com o e-mail\n",
        "do cliente. Imprima a nova tupla.\n",
        "'''\n",
        "email = (\"lazaro@xyzmail.com\",)\n",
        "\n",
        "nova_tupla = cliente + email # Concatenando\n",
        "print(nova_tupla)"
      ],
      "metadata": {
        "colab": {
          "base_uri": "https://localhost:8080/"
        },
        "id": "BXKKUQPoIR6K",
        "outputId": "979f0b2c-9121-449a-d6df-510a365c47dc"
      },
      "execution_count": null,
      "outputs": [
        {
          "output_type": "stream",
          "name": "stdout",
          "text": [
            "('Lázaro', 29, 67.0, 1.72, 'lazaro@xyzmail.com')\n"
          ]
        }
      ]
    },
    {
      "cell_type": "markdown",
      "source": [
        "# 8 - Dicionários"
      ],
      "metadata": {
        "id": "-zg06dPu5ZJC"
      }
    },
    {
      "cell_type": "code",
      "source": [
        "'''\n",
        "8.1. Crie um dicionário com informações de um cliente\n",
        "(nome, idade, peso, altura). Imprima o valor associado à chave 'nome'.\n",
        "'''\n",
        "cliente = {\"nome\":\"Lázaro\",\"idade\":\"29\",\"peso\":\"67\",\"idade\":\"1.72\"}\n",
        "print(\"O nome do cliente é\", cliente[\"nome\"])"
      ],
      "metadata": {
        "id": "E_wd3pdX5clA",
        "colab": {
          "base_uri": "https://localhost:8080/"
        },
        "outputId": "73f35f11-383a-42da-d880-b9fac055985d"
      },
      "execution_count": null,
      "outputs": [
        {
          "output_type": "stream",
          "name": "stdout",
          "text": [
            "O nome do cliente é Lázaro\n"
          ]
        }
      ]
    },
    {
      "cell_type": "code",
      "source": [
        "'''\n",
        "8.2. Adicione uma nova chave 'email' ao dicionário do exercício anterior e\n",
        "imprima o dicionário atualizado.\n",
        "'''\n",
        "cliente[\"email\"] = \"lazaro@xyzmail.com\"\n",
        "print(cliente)"
      ],
      "metadata": {
        "id": "kM-tUW7o5eK7",
        "colab": {
          "base_uri": "https://localhost:8080/"
        },
        "outputId": "3a6a31be-f5b8-4e39-ed62-29bec461054c"
      },
      "execution_count": null,
      "outputs": [
        {
          "output_type": "stream",
          "name": "stdout",
          "text": [
            "{'nome': 'Lázaro', 'idade': '1.72', 'peso': '67', 'email': 'lazaro@xyzmail.com'}\n"
          ]
        }
      ]
    },
    {
      "cell_type": "code",
      "source": [
        "'''\n",
        "8.3. Remova a chave 'peso' do dicionário e verifique se a chave 'endereço' está\n",
        "no dicionário. Imprima os resultados.\n",
        "'''\n",
        "cliente.pop(\"peso\")\n",
        "print(cliente)\n",
        "if \"endereço\" in cliente:\n",
        "    print(\"A chave endereço está presento no cliente\")\n",
        "else:\n",
        "    print(\"A chave endereço não está presento no cliente\")"
      ],
      "metadata": {
        "id": "xFhFuFOV5ffs",
        "colab": {
          "base_uri": "https://localhost:8080/"
        },
        "outputId": "cb5e4ad4-8e5f-4a0f-f2af-4913fbadb0d6"
      },
      "execution_count": null,
      "outputs": [
        {
          "output_type": "stream",
          "name": "stdout",
          "text": [
            "{'nome': 'Lázaro', 'idade': '1.72', 'email': 'lazaro@xyzmail.com'}\n",
            "A chave endereço não está presento no cliente\n"
          ]
        }
      ]
    },
    {
      "cell_type": "markdown",
      "source": [
        "# 9 - Controle de Fluxo"
      ],
      "metadata": {
        "id": "zDOsohbe5sjQ"
      }
    },
    {
      "cell_type": "code",
      "source": [
        "# Condicionais\n",
        "'''\n",
        "9.1. Peça ao usuário para digitar sua idade e verifique se ele é menor de idade,\n",
        " adulto ou idoso. Imprima uma mensagem correspondente.\n",
        "'''\n",
        "idade = int(input(\"Por favor, informe sua idade: \"))\n",
        "\n",
        "if idade >= 60:\n",
        "    print(\"Você é um idoso.\")\n",
        "elif idade >= 18:\n",
        "    print(\"Você é um adulto.\")\n",
        "else:\n",
        "    print(\"Você é menor de idade.\")"
      ],
      "metadata": {
        "id": "efFgv5Xx5wFC",
        "colab": {
          "base_uri": "https://localhost:8080/"
        },
        "outputId": "ebcaf5cc-bcd2-49c3-f373-8927d56a7c0a"
      },
      "execution_count": null,
      "outputs": [
        {
          "output_type": "stream",
          "name": "stdout",
          "text": [
            "Por favor, informe sua idade: 30\n",
            "Você é um adulto.\n"
          ]
        }
      ]
    },
    {
      "cell_type": "code",
      "source": [
        "# Condicionais\n",
        "'''\n",
        "9.2. Peça ao usuário para digitar uma nota (0 a 100) e imprima se ele foi\n",
        "aprovado (nota >= 60) ou reprovado.\n",
        "'''\n",
        "nota = float(input(\"Por favor, insira sua nota de 0 a 100: \"))\n",
        "\n",
        "if nota >= 60:\n",
        "    print(\"Parabéns! Você foi aprovado.\")\n",
        "else:\n",
        "    print(\"Desculpa, você está reprovado.\")"
      ],
      "metadata": {
        "id": "pse5b4NO52OP",
        "colab": {
          "base_uri": "https://localhost:8080/"
        },
        "outputId": "d2356fa8-e6d1-4d2a-9d5b-d7aff9027f36"
      },
      "execution_count": null,
      "outputs": [
        {
          "output_type": "stream",
          "name": "stdout",
          "text": [
            "Por favor, insira sua nota de 0 a 100: 99\n",
            "Parabéns! Você foi aprovado.\n"
          ]
        }
      ]
    },
    {
      "cell_type": "code",
      "source": [
        "# Loop For\n",
        "'''\n",
        "9.3. Crie uma lista com os nomes de cinco cidades. Use um loop for para imprimir\n",
        "cada nome de cidade.\n",
        "'''\n",
        "cidades = [\"Chorozinho\", \"Pacajus\", \"Horizonte\", \"Itaitinga\", \"Fortaleza\"]\n",
        "\n",
        "for cidade in cidades:\n",
        "    print(cidade)"
      ],
      "metadata": {
        "id": "inMnGHFy525K",
        "colab": {
          "base_uri": "https://localhost:8080/"
        },
        "outputId": "a1879033-18d2-44b6-fe1e-e2aa504d8d9a"
      },
      "execution_count": null,
      "outputs": [
        {
          "output_type": "stream",
          "name": "stdout",
          "text": [
            "Chorozinho\n",
            "Pacajus\n",
            "Horizonte\n",
            "Itaitinga\n",
            "Fortaleza\n"
          ]
        }
      ]
    },
    {
      "cell_type": "code",
      "source": [
        "# Loop For\n",
        "'''\n",
        "9.4. Crie uma lista com os números de 1 a 10. Use um loop for para imprimir o\n",
        "quadrado de cada número.\n",
        "'''\n",
        "numeros = [1, 2, 3, 4, 5, 6, 7, 8, 9, 10]\n",
        "\n",
        "for numero in numeros:\n",
        "    quadrado = numero ** 2\n",
        "    print(f\"O quadrado de {numero} é {quadrado}.\")"
      ],
      "metadata": {
        "id": "GitTfGfM539Y",
        "colab": {
          "base_uri": "https://localhost:8080/"
        },
        "outputId": "5499022a-c876-441d-a6a6-05275ab1c80e"
      },
      "execution_count": null,
      "outputs": [
        {
          "output_type": "stream",
          "name": "stdout",
          "text": [
            "O quadrado de 1 é 1.\n",
            "O quadrado de 2 é 4.\n",
            "O quadrado de 3 é 9.\n",
            "O quadrado de 4 é 16.\n",
            "O quadrado de 5 é 25.\n",
            "O quadrado de 6 é 36.\n",
            "O quadrado de 7 é 49.\n",
            "O quadrado de 8 é 64.\n",
            "O quadrado de 9 é 81.\n",
            "O quadrado de 10 é 100.\n"
          ]
        }
      ]
    },
    {
      "cell_type": "markdown",
      "source": [
        "# 10 - Estudo de caso 01"
      ],
      "metadata": {
        "id": "_vJUEjo_6mWX"
      }
    },
    {
      "cell_type": "code",
      "source": [
        "'''\n",
        "Contexto:\n",
        "Uma empresa precisa registrar informações sobre seus clientes e calcular o IMC\n",
        "(Índice de Massa Corporal) de cada um deles. As informações devem ser\n",
        "armazenadas em um dicionário e exibidas ao final.\n",
        "'''\n",
        "\n",
        "\n",
        "'''\n",
        "Requisitos:\n",
        "Peça ao usuário para inserir os seguintes dados de um cliente:\n",
        "Nome\n",
        "Idade\n",
        "Peso (em kg)\n",
        "Altura (em metros)\n",
        "E-mail\n",
        "Armazene essas informações em um dicionário.\n",
        "Calcule o IMC do cliente (IMC = Peso / (Altura * Altura)) e adicione esse valor ao dicionário.\n",
        "Exiba todas as informações do cliente, incluindo o IMC arredondado para duas casas decimais.\n",
        "'''\n",
        "\n",
        "print(\"===== Insira os dados do cliente. =====\")\n",
        "nome = input(\"\\nInsira o nome do cliente: \")\n",
        "idade = int(input(\"Insira a idade do cliente: \"))\n",
        "peso = float(input(\"Insira o peso do cliente (em Kg): \"))\n",
        "altura = float(input(\"Insira a altura do cliente (em metros): \"))\n",
        "email = input(\"Insira o e-mail do cliente: \")\n",
        "imc = peso / altura ** 2\n",
        "\n",
        "cliente = {\n",
        "    \"nome\": nome,\n",
        "    \"idade\": idade,\n",
        "    \"peso\": peso,\n",
        "    \"altura\": altura,\n",
        "    \"email\": email,\n",
        "    \"imc\": round(imc, 2)\n",
        "}\n",
        "\n",
        "print(\"\\n===== Informações do Cliente =====\\n\")\n",
        "for chave, valor in cliente.items():\n",
        "    print(f\"{chave.capitalize()}: {valor}\")\n"
      ],
      "metadata": {
        "id": "llIsNhsG6l_z",
        "colab": {
          "base_uri": "https://localhost:8080/"
        },
        "outputId": "4bf00d16-a92f-4c2d-b170-572aabefdb1a"
      },
      "execution_count": null,
      "outputs": [
        {
          "output_type": "stream",
          "name": "stdout",
          "text": [
            "===== Insira os dados do cliente. =====\n",
            "\n",
            "Insira o nome do cliente: Álevy Bruno\n",
            "Insira a idade do cliente: 30\n",
            "Insira o peso do cliente (em Kg): 120\n",
            "Insira a altura do cliente (em metros): 1.82\n",
            "Insira o e-mail do cliente: alevybruno@xyzmail.com\n",
            "\n",
            "===== Informações do Cliente =====\n",
            "\n",
            "Nome: Álevy Bruno\n",
            "Idade: 30\n",
            "Peso: 120.0\n",
            "Altura: 1.82\n",
            "Email: alevybruno@xyzmail.com\n",
            "Imc: 36.23\n"
          ]
        }
      ]
    },
    {
      "cell_type": "markdown",
      "source": [
        "# 11 - Estudo de Caso 02"
      ],
      "metadata": {
        "id": "_Yi8lRKQ68B3"
      }
    },
    {
      "cell_type": "code",
      "source": [
        "'''\n",
        "Contexto:\n",
        "Uma escola precisa analisar as notas de seus alunos e determinar se cada aluno\n",
        "foi aprovado ou reprovado. As notas serão armazenadas em uma lista e a análise\n",
        "deve ser realizada em um loop.\n",
        "'''\n",
        "\n",
        "'''\n",
        "Requisitos:\n",
        "Peça ao usuário para inserir o nome e a nota de cinco alunos.\n",
        "Armazene os nomes e as notas em listas separadas.\n",
        "Para cada aluno, verifique se a nota é maior ou igual a 60. Se sim, o aluno está\n",
        "aprovado; caso contrário, está reprovado.\n",
        "Exiba uma mensagem para cada aluno informando seu nome, nota e se foi aprovado\n",
        "ou reprovado.\n",
        "'''\n",
        "\n",
        "print(\"===== Informe os nomes e as notas dos alunos. =====\")\n",
        "\n",
        "nomes = []\n",
        "notas = []\n",
        "\n",
        "for i in range(5):\n",
        "    nome = input(f\"\\nInforme o nome do(a) aluno(a) {i + 1}: \")\n",
        "    nota = float(input(f\"Informe a nota do aluno {i + 1}: \"))\n",
        "    nomes.append(nome)\n",
        "    notas.append(nota)\n",
        "\n",
        "print(\"\\n=============== Situação dos alunos ==============\\n\")\n",
        "for i in range(5):\n",
        "    situacao = \"Aprovado(a)\" if notas[i] >= 60 else \"Reprovado(a)\"\n",
        "    print(f\"Aluno: {nomes[i]} - Nota: {notas[i]} - Situação: {situacao}.\")"
      ],
      "metadata": {
        "id": "mrqCtmjg6_It",
        "colab": {
          "base_uri": "https://localhost:8080/"
        },
        "outputId": "c3bb4f58-ec32-4c7a-9638-b585443d6e99"
      },
      "execution_count": null,
      "outputs": [
        {
          "output_type": "stream",
          "name": "stdout",
          "text": [
            "===== Informe os nomes e as notas dos alunos. =====\n",
            "\n",
            "Informe o nome do(a) aluno(a) 1: Álevy\n",
            "Informe a nota do aluno 1: 100\n",
            "\n",
            "Informe o nome do(a) aluno(a) 2: Bruno\n",
            "Informe a nota do aluno 2: 99.9\n",
            "\n",
            "Informe o nome do(a) aluno(a) 3: Cristiano\n",
            "Informe a nota do aluno 3: 55.9\n",
            "\n",
            "Informe o nome do(a) aluno(a) 4: Darlene\n",
            "Informe a nota do aluno 4: 80.6\n",
            "\n",
            "Informe o nome do(a) aluno(a) 5: Estelito\n",
            "Informe a nota do aluno 5: 0.0\n",
            "\n",
            "=============== Situação dos alunos ==============\n",
            "\n",
            "Aluno: Álevy - Nota: 100.0 - Situação: Aprovado(a).\n",
            "Aluno: Bruno - Nota: 99.9 - Situação: Aprovado(a).\n",
            "Aluno: Cristiano - Nota: 55.9 - Situação: Reprovado(a).\n",
            "Aluno: Darlene - Nota: 80.6 - Situação: Aprovado(a).\n",
            "Aluno: Estelito - Nota: 0.0 - Situação: Reprovado(a).\n"
          ]
        }
      ]
    },
    {
      "cell_type": "markdown",
      "source": [
        "# 12 - Estudo de caso 03"
      ],
      "metadata": {
        "id": "DoDAFqG37QWG"
      }
    },
    {
      "cell_type": "code",
      "source": [
        "'''\n",
        "Contexto\n",
        "Uma empresa deseja realizar uma pesquisa de opinião com cinco participantes\n",
        "sobre um novo produto. As respostas devem ser armazenadas e analisadas para\n",
        "verificar a satisfação dos clientes.\n",
        "'''\n",
        "\n",
        "'''\n",
        "Requisitos\n",
        "Peça ao usuário para inserir o nome e a opinião (satisfeito/insatisfeito) de\n",
        "cinco participantes.\n",
        "Armazene os nomes e as opiniões em um dicionário.\n",
        "Conte o número de participantes satisfeitos e insatisfeitos.\n",
        "Exiba a lista de participantes satisfeitos e insatisfeitos, bem como o número\n",
        "total de cada categoria.\n",
        "'''\n",
        "\n",
        "print(\"===== Por favor, nos fale o que achou de nosso produto. =====\\n\")\n",
        "\n",
        "nota_testador = {}\n",
        "\n",
        "for i in range(5):\n",
        "    nome = input(f\"Informe o nome do participante, por favor {i + 1}: \")\n",
        "    opiniao = input(\"Por favor, informe se o mesmo está satisfeito ou insatisfeito: \").lower()\n",
        "    nota_testador[nome] = opiniao\n",
        "\n",
        "satisfeitos = []\n",
        "insatisfeitos = []\n",
        "\n",
        "for nome, opiniao in nota_testador.items():\n",
        "    if opiniao == \"satisfeito\":\n",
        "        satisfeitos.append(nome)\n",
        "    elif opiniao == \"insatisfeito\":\n",
        "        insatisfeitos.append(nome)\n",
        "\n",
        "print(\"\\n\\n============ Conclusão da Pesquisa ============\\n\"\n",
        "    f\"\\nParticipantes satisfeitos ({len(satisfeitos)}): {', '.join(satisfeitos)}\"\n",
        "    f\"\\nParticipantes insatisfeitos ({len(insatisfeitos)}): {', '.join(insatisfeitos)}\")"
      ],
      "metadata": {
        "id": "34JqxL0B7Tvj",
        "colab": {
          "base_uri": "https://localhost:8080/"
        },
        "outputId": "cdff00b2-8328-4a8b-b1e3-5b94c479879b"
      },
      "execution_count": null,
      "outputs": [
        {
          "output_type": "stream",
          "name": "stdout",
          "text": [
            "===== Por favor, nos fale o que achou de nosso produto. =====\n",
            "\n",
            "Informe o nome do participante, por favor 1: Álevy\n",
            "Por favor, informe se o mesmo está satisfeito ou insatisfeito: Satisfeito\n",
            "Informe o nome do participante, por favor 2: Bruno\n",
            "Por favor, informe se o mesmo está satisfeito ou insatisfeito: Insatisfeito\n",
            "Informe o nome do participante, por favor 3: Carlos\n",
            "Por favor, informe se o mesmo está satisfeito ou insatisfeito: satisfeito\n",
            "Informe o nome do participante, por favor 4: Douglas\n",
            "Por favor, informe se o mesmo está satisfeito ou insatisfeito: SATISFEITO\n",
            "Informe o nome do participante, por favor 5: Estelito\n",
            "Por favor, informe se o mesmo está satisfeito ou insatisfeito: INSATISFEITO\n",
            "\n",
            "\n",
            "============ Conclusão da Pesquisa ============\n",
            "\n",
            "Participantes satisfeitos (3): Álevy, Carlos, Douglas\n",
            "Participantes insatisfeitos (2): Bruno, Estelito\n"
          ]
        }
      ]
    }
  ]
}